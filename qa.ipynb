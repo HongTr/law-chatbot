{
 "cells": [
  {
   "attachments": {},
   "cell_type": "markdown",
   "metadata": {},
   "source": [
    "## data"
   ]
  },
  {
   "cell_type": "code",
   "execution_count": 11,
   "metadata": {},
   "outputs": [],
   "source": [
    "import json\n",
    "with open('Data_1910.json', 'r', encoding='utf-8') as f:\n",
    "  json_dict = json.loads(f.read())"
   ]
  },
  {
   "cell_type": "code",
   "execution_count": 12,
   "metadata": {},
   "outputs": [
    {
     "data": {
      "text/plain": [
       "1857"
      ]
     },
     "execution_count": 12,
     "metadata": {},
     "output_type": "execute_result"
    }
   ],
   "source": [
    "len(json_dict)"
   ]
  },
  {
   "cell_type": "code",
   "execution_count": 38,
   "metadata": {},
   "outputs": [],
   "source": [
    "def rename(title, index):\n",
    "  number = title.split()[1]\n",
    "  number_change = number[:-1] + f\"_{index}.\"\n",
    "  title = title.replace(number, number_change)\n",
    "  return title\n",
    "\n",
    "def split_nested_dict_by_length(dictionary, threshold):\n",
    "  result_final_dict = dict()\n",
    "  \n",
    "  #loop từng nghị định\n",
    "  for number, content in dictionary.items():\n",
    "    result_dict = {}\n",
    "    # number : {\n",
    "    #   content\n",
    "    # }\n",
    "\n",
    "    # content có\n",
    "    # key: sub_dict\n",
    "    for key, sub_dict in content.items():\n",
    "      if key == \"name\" and sub_dict != \"\":\n",
    "         result_dict[key] = sub_dict\n",
    "         continue\n",
    "      if key ==\"name\" and sub_dict == \"\":\n",
    "         continue\n",
    "      #Trường hợp điều luật không có khoản\n",
    "      if type(sub_dict) != dict:    \n",
    "        if key != \"name\" and sub_dict == \"\":\n",
    "            key = key.split(\". \")\n",
    "            result_dict[key[0]] = key[1]\n",
    "         #nếu câu này > 20 từ\n",
    "        elif len(sub_dict.split()) >= 20:\n",
    "            result_dict[key] = sub_dict\n",
    "        continue\n",
    "\n",
    "      #Trường hợp điều luật có khoản\n",
    "      '''\n",
    "      key: \n",
    "      subdict \n",
    "      {\n",
    "        \"Dieu 1\": abc,\n",
    "      }\n",
    "      '''\n",
    "      total_length = sum(len(value.split()) for value in sub_dict.values())\n",
    "      if total_length <= threshold:\n",
    "          result_dict[key] = sub_dict\n",
    "      else:\n",
    "        current_length = 0\n",
    "        temp_dict = {}\n",
    "        sub_dict_index = 1      \n",
    "              # '''\n",
    "              # key: \n",
    "              # subdict \n",
    "              # {\n",
    "              #   \"Khoan 1\": abc,\n",
    "              #   ...\n",
    "              #   sub_key: value\n",
    "              # }\n",
    "              # '''   \n",
    "        for sub_key, value in sub_dict.items():\n",
    "          current_length += len(value.split())\n",
    "          if current_length <= threshold:\n",
    "              temp_dict[sub_key] = value\n",
    "          else:\n",
    "              name = rename(key, sub_dict_index)\n",
    "              result_dict[name] = temp_dict  \n",
    "              temp_dict = {sub_key: value}\n",
    "              current_length = len(value.split())\n",
    "              current_lengh = 0\n",
    "              sub_dict_index += 1\n",
    "          name = rename(key, sub_dict_index)\n",
    "          result_dict[name] = temp_dict\n",
    "    result_final_dict[number] = result_dict\n",
    "  return result_final_dict\n",
    "\n",
    "threshold = 1000\n",
    "result = split_nested_dict_by_length(json_dict, threshold)"
   ]
  },
  {
   "cell_type": "code",
   "execution_count": 22,
   "metadata": {},
   "outputs": [
    {
     "data": {
      "text/plain": [
       "1857"
      ]
     },
     "execution_count": 22,
     "metadata": {},
     "output_type": "execute_result"
    }
   ],
   "source": [
    "len(result)"
   ]
  },
  {
   "cell_type": "code",
   "execution_count": 40,
   "metadata": {},
   "outputs": [],
   "source": [
    "with open('data_fragment.json', 'w', encoding='utf-8') as f:\n",
    "    json.dump(result, f, ensure_ascii=False, indent=4)"
   ]
  },
  {
   "attachments": {},
   "cell_type": "markdown",
   "metadata": {},
   "source": [
    "## Data fragment"
   ]
  },
  {
   "cell_type": "code",
   "execution_count": 25,
   "metadata": {},
   "outputs": [],
   "source": [
    "with open('data_fragment.json', 'r', encoding='utf-8') as f:\n",
    "  json_dict_frag = json.loads(f.read())"
   ]
  },
  {
   "cell_type": "code",
   "execution_count": 26,
   "metadata": {},
   "outputs": [],
   "source": [
    "def rename(title, index):\n",
    "  number = title.split()[1]\n",
    "  number_change = number[:-1] + f\"_{index}.\"\n",
    "  title = title.replace(number, number_change)\n",
    "  return title\n",
    "\n",
    "def split_nested_dict_by_length(dictionary, threshold):\n",
    "  result_final_dict = dict()\n",
    "  \n",
    "  #loop từng nghị định\n",
    "  for number, content in dictionary.items():\n",
    "    result_dict = {}\n",
    "    # number : {\n",
    "    #   content\n",
    "    # }\n",
    "\n",
    "    # content có\n",
    "    # key: sub_dict\n",
    "    for key, sub_dict in content.items():\n",
    "      if key == \"name\" and sub_dict != \"\":\n",
    "         result_dict[key] = sub_dict\n",
    "         continue\n",
    "      if key ==\"name\" and sub_dict == \"\":\n",
    "         continue\n",
    "      #Trường hợp điều luật không có khoản\n",
    "      if type(sub_dict) != dict:    \n",
    "        if key != \"name\" and sub_dict == \"\":\n",
    "            key = key.split(\". \")\n",
    "            result_dict[key[0]] = key[1]\n",
    "         #nếu câu này > 20 từ\n",
    "        elif len(sub_dict.split()) >= 20:\n",
    "            result_dict[key] = sub_dict\n",
    "        continue\n",
    "\n",
    "      #Trường hợp điều luật có khoản\n",
    "      '''\n",
    "      key: \n",
    "      subdict \n",
    "      {\n",
    "        \"Dieu 1\": abc,\n",
    "      }\n",
    "      '''\n",
    "      total_length = sum(len(value.split()) for value in sub_dict.values())\n",
    "      if total_length <= threshold:\n",
    "          result_dict[key] = sub_dict\n",
    "      else:\n",
    "        current_length = 0\n",
    "        temp_dict = {}\n",
    "        sub_dict_index = 1      \n",
    "              # '''\n",
    "              # key: \n",
    "              # subdict \n",
    "              # {\n",
    "              #   \"Khoan 1\": abc,\n",
    "              #   ...\n",
    "              #   sub_key: value\n",
    "              # }\n",
    "              # '''   \n",
    "        for sub_key, value in sub_dict.items():\n",
    "          current_length += len(value.split())\n",
    "          if current_length <= threshold:\n",
    "              temp_dict[sub_key] = value\n",
    "          else:\n",
    "              name = rename(key, sub_dict_index)\n",
    "              result_dict[name] = temp_dict  \n",
    "              temp_dict = {sub_key: value}\n",
    "              current_length = len(value.split())\n",
    "              current_lengh = 0\n",
    "              sub_dict_index += 1\n",
    "          name = rename(key, sub_dict_index)\n",
    "          result_dict[name] = temp_dict\n",
    "    result_final_dict[number] = result_dict\n",
    "  return result_final_dict\n",
    "\n",
    "threshold = 200\n",
    "result = split_nested_dict_by_length(json_dict_frag, threshold)"
   ]
  },
  {
   "cell_type": "code",
   "execution_count": 27,
   "metadata": {},
   "outputs": [],
   "source": [
    "with open('temp.json', 'w', encoding='utf-8') as f:\n",
    "    json.dump(result, f, ensure_ascii=False, indent=4)"
   ]
  },
  {
   "cell_type": "code",
   "execution_count": 47,
   "metadata": {},
   "outputs": [],
   "source": [
    "#remove nghi luan chi co ten\n",
    "\n",
    "A = dict()\n",
    "for number, content in json_dict_frag.items():\n",
    "    if len(content) != 1:\n",
    "        A[number] = content\n",
    "json_dict_frag = A"
   ]
  },
  {
   "cell_type": "code",
   "execution_count": 49,
   "metadata": {},
   "outputs": [],
   "source": [
    "with open('final.json', 'w', encoding='utf-8') as f:\n",
    "    json.dump(json_dict_frag, f, ensure_ascii=False, indent=4)"
   ]
  },
  {
   "attachments": {},
   "cell_type": "markdown",
   "metadata": {},
   "source": [
    "## Dat cau hoi"
   ]
  },
  {
   "cell_type": "code",
   "execution_count": 1,
   "metadata": {},
   "outputs": [],
   "source": [
    "import json\n",
    "with open('temp.json', 'r', encoding='utf-8') as f:\n",
    "  data_final = json.loads(f.read())"
   ]
  },
  {
   "cell_type": "code",
   "execution_count": 2,
   "metadata": {},
   "outputs": [],
   "source": [
    "from gpt_api import scrape_answer\n",
    "from time import sleep"
   ]
  },
  {
   "cell_type": "code",
   "execution_count": 4,
   "metadata": {},
   "outputs": [],
   "source": [
    "def prettifier(content_dict : dict):\n",
    "    noi_dung = \"\"\n",
    "    for khoan, noi_dung_khoan in content_dict.items():\n",
    "        noi_dung += f\"{khoan}: {noi_dung_khoan}\"\n",
    "    return noi_dung\n"
   ]
  },
  {
   "cell_type": "code",
   "execution_count": 5,
   "metadata": {},
   "outputs": [],
   "source": [
    "with open('question/question.json', 'r', encoding='utf-8') as f:\n",
    "  question_json = json.loads(f.read())"
   ]
  },
  {
   "cell_type": "code",
   "execution_count": 34,
   "metadata": {},
   "outputs": [
    {
     "data": {
      "text/plain": [
       "250"
      ]
     },
     "execution_count": 34,
     "metadata": {},
     "output_type": "execute_result"
    }
   ],
   "source": [
    "len(question_json)"
   ]
  },
  {
   "cell_type": "code",
   "execution_count": 57,
   "metadata": {},
   "outputs": [
    {
     "data": {
      "text/plain": [
       "1046"
      ]
     },
     "execution_count": 57,
     "metadata": {},
     "output_type": "execute_result"
    }
   ],
   "source": [
    "sum(len(item) for item in question_json.values())"
   ]
  },
  {
   "cell_type": "code",
   "execution_count": 33,
   "metadata": {},
   "outputs": [
    {
     "name": "stdout",
     "output_type": "stream",
     "text": [
      "Nghị định 150/2020/NĐ-CP chuyển đơn vị sự nghiệp công lập thành công ty cổ phần\n",
      "Nghị định 100/2019/NĐ-CP xử phạt vi phạm hành chính lĩnh vực giao thông đường bộ và đường sắt\n",
      "Luật Hộ tịch 2014 số 60/2014/QH13\n",
      "Luật Đường sắt 2017 số 06/2017/QH14\n",
      "Nghị quyết 201/NQ-HĐND 2019 thông qua bảng giá đất tỉnh Gia Lai\n",
      "Nghị định 96/2020/NĐ-CP xử phạt vi phạm hành chính trong quản lý bảo vệ biên giới quốc gia\n",
      "Pháp lệnh 02/2020/UBTVQH14 ưu đãi người có công với Cách mạng\n",
      "Nghị định 49/2016/NĐ-CP sửa đổi 109/2013/NĐ-CP xử phạt hành chính quản lý giá phí lệ phí hóa đơn\n",
      "Nghị định 95/2018/NĐ-CP đăng ký giao dịch công cụ nợ của Chính phủ trên thị trường chứng khoán\n",
      "Quyết định 12/2020/QĐ-UBND ban hành Quy định về Bảng giá đất tỉnh Hà Nam 2020 2024\n",
      "Nghị định 111/2022/NĐ-CP hợp đồng một số loại công việc trong cơ quan hành chính\n",
      "Nghị định 71/2022/NĐ-CP sửa đổi Nghị định 06/2016/NĐ-CP sử dụng dịch vụ phát thanh\n",
      "Thông tư liên tịch 01/2016/TTLT-TANDTC-VKSNDTC-BTP hướng dẫn thi hành Luật hôn nhân gia đình\n",
      "Thông tư 01/2006/TT-BCA(C11) thực hiện nội dung Điều 35 Bộ luật Tố tụng hình sự năm 2003\n",
      "Nghị định 45/2018/NĐ-CP quản lý sử dụng tài sản kết cấu hạ tầng giao thông đường thủy nội địa\n",
      "Luật Phòng chống tham nhũng năm 2018 số 36/2018/QH14\n",
      "Thông tư 06/2022/TT-NHNN sửa đổi Thông tư 50/2018/TT-NHNN nội dung thay đổi của ngân hàng\n",
      "Hướng dẫn 56-HD/VPTW mức chi tiền thưởng kèm hình thức khen thưởng tổ chức đảng đảng viên 2015\n",
      "Thông tư 18/2019/TT-BLĐTBXH tiền lương tiền hỗ trợ tập huấn đối với huấn luyện viên thể thao\n",
      "Quyết định 296/QĐ-TANDTC 2022 tiếp nhận quản lý văn bản điện tử giữa các Tòa án\n"
     ]
    }
   ],
   "source": [
    "question = \"Hồng hãy giúp tôi sinh ra 10 câu hỏi dựa vào thông tin trên\"\n",
    "\n",
    "count = 0\n",
    "for number, content in data_final.items():\n",
    "    if number in question_json:\n",
    "        continue\n",
    "    count += 1\n",
    "    if count == 24:\n",
    "        break\n",
    "    question_json[number] = dict()\n",
    "\n",
    "    name = \"\"\n",
    "    info = \"\"\n",
    "    for index, (dieu, noi_dung_dieu) in enumerate(content.items()):\n",
    "        if index == 6:\n",
    "            break\n",
    "        #Lay ten nghi dinh\n",
    "        if dieu == \"name\":\n",
    "            #number = \"_\".join(number.split(\"/\"))\n",
    "            name = noi_dung_dieu\n",
    "            print(name)\n",
    "            continue \n",
    "        #Neu dieu luat khong co khoan\n",
    "        if type(noi_dung_dieu) != dict:\n",
    "            info = f\"{name}. {dieu}: {noi_dung_dieu}\"\n",
    "            try:\n",
    "                question_json[number][dieu] = scrape_answer(info, question).split(\"\\n\")\n",
    "                with open('question/question.json', 'w', encoding='utf-8') as f:\n",
    "                    json.dump(question_json, f, ensure_ascii=False, indent=4)\n",
    "            except:\n",
    "                sleep(20)\n",
    "                question_json[number][dieu] = scrape_answer(info, question).split(\"\\n\")\n",
    "                with open('question/question.json', 'w', encoding='utf-8') as f:\n",
    "                    json.dump(question_json, f, ensure_ascii=False, indent=4)\n",
    "                continue\n",
    "        else: #Neu dieu luat co khoan (noi_dung_dieu)\n",
    "            noi_dung_dieu = prettifier(noi_dung_dieu)\n",
    "            info = f\"{name}. {dieu}: {noi_dung_dieu}\"\n",
    "            try:\n",
    "                question_json[number][dieu] = scrape_answer(info, question).split(\"\\n\")\n",
    "                with open('question/question.json', 'w', encoding='utf-8') as f:\n",
    "                    json.dump(question_json, f, ensure_ascii=False, indent=4)\n",
    "            except:\n",
    "                sleep(20)\n",
    "                question_json[number][dieu] = scrape_answer(info, question).split(\"\\n\")\n",
    "                with open('question/question.json', 'w', encoding='utf-8') as f:\n",
    "                    json.dump(question_json, f, ensure_ascii=False, indent=4)\n",
    "                continue"
   ]
  },
  {
   "cell_type": "code",
   "execution_count": null,
   "metadata": {},
   "outputs": [],
   "source": [
    "question_json['88/2020/NĐ-CP'][\"Điều 2_2. Đối tượng áp dụng\"]"
   ]
  },
  {
   "cell_type": "code",
   "execution_count": null,
   "metadata": {},
   "outputs": [],
   "source": [
    "data_final['54/2019/QH14'][\"Điều 4_2_4. Giải thích từ ngữ\"]"
   ]
  },
  {
   "cell_type": "code",
   "execution_count": 53,
   "metadata": {},
   "outputs": [],
   "source": [
    "with open('question/question.json', 'r', encoding='utf-8') as f:\n",
    "  question_json = json.loads(f.read())"
   ]
  },
  {
   "cell_type": "code",
   "execution_count": 55,
   "metadata": {},
   "outputs": [
    {
     "data": {
      "text/plain": [
       "250"
      ]
     },
     "execution_count": 55,
     "metadata": {},
     "output_type": "execute_result"
    }
   ],
   "source": [
    "len(question_json)"
   ]
  },
  {
   "cell_type": "code",
   "execution_count": 54,
   "metadata": {},
   "outputs": [],
   "source": [
    "count = 0\n",
    "for number, content in question_json.items():\n",
    "    for dieu, list_cau_hoi in content.items():\n",
    "        if len(list_cau_hoi) != 10:\n",
    "            print(number)\n",
    "            print(dieu)"
   ]
  },
  {
   "attachments": {},
   "cell_type": "markdown",
   "metadata": {},
   "source": [
    "## Answers"
   ]
  },
  {
   "cell_type": "code",
   "execution_count": 1,
   "metadata": {},
   "outputs": [],
   "source": [
    "import json\n",
    "\n",
    "with open('question/question.json', 'r', encoding='utf-8') as f:\n",
    "  question_json = json.loads(f.read())\n",
    "\n",
    "with open('temp.json', 'r', encoding='utf-8') as f:\n",
    "  data_final = json.loads(f.read())\n",
    "\n",
    "with open('answer/answer.json', 'r', encoding='utf-8') as f:\n",
    "  answer_json = json.loads(f.read())"
   ]
  },
  {
   "cell_type": "code",
   "execution_count": 2,
   "metadata": {},
   "outputs": [],
   "source": [
    "# answer_json = {}\n",
    "def prettifier(content_dict : dict):\n",
    "    noi_dung = \"\"\n",
    "    for khoan, noi_dung_khoan in content_dict.items():\n",
    "        noi_dung += f\"{khoan}: {noi_dung_khoan}\"\n",
    "    return noi_dung"
   ]
  },
  {
   "cell_type": "code",
   "execution_count": null,
   "metadata": {},
   "outputs": [],
   "source": [
    "from answer.api import scrape_answer\n",
    "from time import sleep\n",
    "\n",
    "count = 0\n",
    "for checkpoint, (number, content) in enumerate(question_json.items()):\n",
    "    if number in answer_json:\n",
    "        continue\n",
    "    if count == 3:\n",
    "        break\n",
    "    count += 1\n",
    "    answer_json[number] = {}\n",
    "    index = 1\n",
    "    for dieu, list_cau_hoi in content.items():\n",
    "        if type(data_final[number][dieu]) == dict:\n",
    "            info = prettifier(data_final[number][dieu])\n",
    "        else:\n",
    "            info = data_final[number][dieu]\n",
    "        for cau_hoi in list_cau_hoi:\n",
    "            cau_hoi = cau_hoi.split(\". \")[1]\n",
    "            try:\n",
    "                answer = scrape_answer(info, cau_hoi)\n",
    "                answer_json[number][index] = {\n",
    "                    'Question': cau_hoi,\n",
    "                    'Context': info,\n",
    "                    'Answer': answer\n",
    "                }\n",
    "                index += 1\n",
    "                with open('answer/answer.json', 'w', encoding='utf-8') as f:\n",
    "                    json.dump(answer_json, f, ensure_ascii=False, indent=4)\n",
    "            except:\n",
    "                sleep(20)\n",
    "                answer = scrape_answer(info, cau_hoi)\n",
    "                answer_json[number][index] = {\n",
    "                    'Question': cau_hoi,\n",
    "                    'Context': info,\n",
    "                    'Answer': answer\n",
    "                }\n",
    "                with open('answer/answer.json', 'w', encoding='utf-8') as f:\n",
    "                    json.dump(answer_json, f, ensure_ascii=False, indent=4)\n",
    "                index += 1"
   ]
  },
  {
   "cell_type": "code",
   "execution_count": 3,
   "metadata": {},
   "outputs": [
    {
     "name": "stdout",
     "output_type": "stream",
     "text": [
      "250\n",
      "53\n",
      "1579\n"
     ]
    }
   ],
   "source": [
    "print(len(question_json))\n",
    "print(len(answer_json))\n",
    "\n",
    "print(sum(len(value) for value in answer_json.values()))"
   ]
  },
  {
   "cell_type": "code",
   "execution_count": null,
   "metadata": {},
   "outputs": [],
   "source": []
  }
 ],
 "metadata": {
  "kernelspec": {
   "display_name": "Python 3",
   "language": "python",
   "name": "python3"
  },
  "language_info": {
   "codemirror_mode": {
    "name": "ipython",
    "version": 3
   },
   "file_extension": ".py",
   "mimetype": "text/x-python",
   "name": "python",
   "nbconvert_exporter": "python",
   "pygments_lexer": "ipython3",
   "version": "3.8.10"
  },
  "orig_nbformat": 4,
  "vscode": {
   "interpreter": {
    "hash": "916dbcbb3f70747c44a77c7bcd40155683ae19c65e1c03b4aa3499c5328201f1"
   }
  }
 },
 "nbformat": 4,
 "nbformat_minor": 2
}
